{
 "cells": [
  {
   "cell_type": "markdown",
   "metadata": {},
   "source": [
    "<table>\n",
    "    <tr>\n",
    "        <td  style=\"background-color:#ffffff;\"><a href=\"https://qsoftware.lu.lv/index.php/qworld/\" target=\"_blank\"><img src=\"..\\images\\qworld.jpg\" width=\"70%\" align=\"left\"></a></td>\n",
    "        <td style=\"background-color:#ffffff;\" width=\"*\"></td>\n",
    "        <td  style=\"background-color:#ffffff;vertical-align:text-top;\"><a href=\"https://qsoftware.lu.lv\" target=\"_blank\"><img src=\"..\\images\\logo.jpg\" width=\"25%\" align=\"right\"></a></td>        \n",
    "    </tr>\n",
    "    <tr><td colspan=\"3\" align=\"right\" style=\"color:#777777;background-color:#ffffff;font-size:12px;\">\n",
    "        prepared by <a href=\"http://abu.lu.lv\" target=\"_blank\">Abuzer Yakaryilmaz</a>\n",
    "    </td></tr>\n",
    "    <tr><td colspan=\"3\" align=\"right\" style=\"color:#bbbbbb;background-color:#ffffff;font-size:11px;font-style:italic;\">\n",
    "        This cell contains some macros. If there is a problem with displaying mathematical formulas, please run this cell to load these macros.\n",
    "    </td></tr>\n",
    "</table>\n",
    "$ \\newcommand{\\bra}[1]{\\langle #1|} $\n",
    "$ \\newcommand{\\ket}[1]{|#1\\rangle} $\n",
    "$ \\newcommand{\\braket}[2]{\\langle #1|#2\\rangle} $\n",
    "$ \\newcommand{\\dot}[2]{ #1 \\cdot #2} $\n",
    "$ \\newcommand{\\biginner}[2]{\\left\\langle #1,#2\\right\\rangle} $\n",
    "$ \\newcommand{\\mymatrix}[2]{\\left( \\begin{array}{#1} #2\\end{array} \\right)} $\n",
    "$ \\newcommand{\\myvector}[1]{\\mymatrix{c}{#1}} $\n",
    "$ \\newcommand{\\myrvector}[1]{\\mymatrix{r}{#1}} $\n",
    "$ \\newcommand{\\mypar}[1]{\\left( #1 \\right)} $\n",
    "$ \\newcommand{\\mybigpar}[1]{ \\Big( #1 \\Big)} $\n",
    "$ \\newcommand{\\sqrttwo}{\\frac{1}{\\sqrt{2}}} $\n",
    "$ \\newcommand{\\dsqrttwo}{\\dfrac{1}{\\sqrt{2}}} $\n",
    "$ \\newcommand{\\onehalf}{\\frac{1}{2}} $\n",
    "$ \\newcommand{\\donehalf}{\\dfrac{1}{2}} $\n",
    "$ \\newcommand{\\hadamard}{ \\mymatrix{rr}{ \\sqrttwo & \\sqrttwo \\\\ \\sqrttwo & -\\sqrttwo }} $\n",
    "$ \\newcommand{\\vzero}{\\myvector{1\\\\0}} $\n",
    "$ \\newcommand{\\vone}{\\myvector{0\\\\1}} $\n",
    "$ \\newcommand{\\vhadamardzero}{\\myvector{ \\sqrttwo \\\\  \\sqrttwo } } $\n",
    "$ \\newcommand{\\vhadamardone}{ \\myrvector{ \\sqrttwo \\\\ -\\sqrttwo } } $\n",
    "$ \\newcommand{\\myarray}[2]{ \\begin{array}{#1}#2\\end{array}} $\n",
    "$ \\newcommand{\\X}{ \\mymatrix{cc}{0 & 1 \\\\ 1 & 0}  } $\n",
    "$ \\newcommand{\\Z}{ \\mymatrix{rr}{1 & 0 \\\\ 0 & -1}  } $\n",
    "$ \\newcommand{\\Htwo}{ \\mymatrix{rrrr}{ \\frac{1}{2} & \\frac{1}{2} & \\frac{1}{2} & \\frac{1}{2} \\\\ \\frac{1}{2} & -\\frac{1}{2} & \\frac{1}{2} & -\\frac{1}{2} \\\\ \\frac{1}{2} & \\frac{1}{2} & -\\frac{1}{2} & -\\frac{1}{2} \\\\ \\frac{1}{2} & -\\frac{1}{2} & -\\frac{1}{2} & \\frac{1}{2} } } $\n",
    "$ \\newcommand{\\CNOT}{ \\mymatrix{cccc}{1 & 0 & 0 & 0 \\\\ 0 & 1 & 0 & 0 \\\\ 0 & 0 & 0 & 1 \\\\ 0 & 0 & 1 & 0} } $\n",
    "$ \\newcommand{\\norm}[1]{ \\left\\lVert #1 \\right\\rVert } $"
   ]
  },
  {
   "cell_type": "markdown",
   "metadata": {},
   "source": [
    "<h2>Rotation Automata</h2>"
   ]
  },
  {
   "cell_type": "markdown",
   "metadata": {},
   "source": [
    "A rotation automaton is a decider. It makes decisions on the stream of symbols. We focus on the streams composed by symbol $ a $'s. So, the decisions will be basically about the lengths of streams.\n",
    "\n",
    "We start with rotation automata having single qubits that are initialized to $ \\ket{0} $.\n",
    "\n",
    "We fix a rotation angle, and we apply this rotation for each symbol. \n",
    "\n",
    "After reading the stream, we make a measurement. If the outcome is '0', then we give one answer, and, if the outcome is '1', then we give another answer.  \n",
    "\n",
    "Our aim is to make correct decisions on the streams as good as possible."
   ]
  },
  {
   "cell_type": "markdown",
   "metadata": {},
   "source": [
    "<h3> A trivial promise problem </h3>\n",
    "\n",
    "The number of $a$'s is a multiple of $ 8 $.\n",
    "\n",
    "For each symbol $a$, we apply the rotation with angle $ \\pi/16 $.\n",
    "\n",
    "In this way, we can exactly (zero-error) separate the streams having even multiples of $ 8 $ $a$'s from the streams having odd multiples of $ 8 $ $a$'s."
   ]
  },
  {
   "cell_type": "code",
   "execution_count": 1,
   "metadata": {},
   "outputs": [
    {
     "name": "stdout",
     "output_type": "stream",
     "text": [
      "8 is odd multiple of 8\n",
      "stream of lenght 8 -> {'1': 100}\n",
      "\n",
      "16 is even multiple of 8\n",
      "stream of lenght 16 -> {'0': 100}\n",
      "\n",
      "24 is odd multiple of 8\n",
      "stream of lenght 24 -> {'1': 100}\n",
      "\n",
      "32 is even multiple of 8\n",
      "stream of lenght 32 -> {'0': 100}\n",
      "\n",
      "40 is odd multiple of 8\n",
      "stream of lenght 40 -> {'1': 100}\n",
      "\n",
      "48 is even multiple of 8\n",
      "stream of lenght 48 -> {'0': 100}\n",
      "\n",
      "56 is odd multiple of 8\n",
      "stream of lenght 56 -> {'1': 100}\n",
      "\n",
      "64 is even multiple of 8\n",
      "stream of lenght 64 -> {'0': 100}\n",
      "\n"
     ]
    }
   ],
   "source": [
    "from qiskit import QuantumRegister, ClassicalRegister, QuantumCircuit, execute, Aer\n",
    "from math import pi\n",
    "\n",
    "# the angle of rotation\n",
    "theta = pi/16\n",
    "\n",
    "# we read streams of length 8, 16, 24, 32, 40, 48, 56, 64\n",
    "for i in [8, 16, 24, 32, 40, 48, 56, 64]:\n",
    "    # quantum circuit with one qubit and one bit\n",
    "    qreg =  QuantumRegister(1) \n",
    "    creg = ClassicalRegister(1) \n",
    "    mycircuit = QuantumCircuit(qreg,creg)\n",
    "    # the stream of length i\n",
    "    for j in range(i):\n",
    "        mycircuit.ry(2*theta,qreg[0]) # apply one rotation for each symbol\n",
    "    # we measure after reading the whole stream\n",
    "    mycircuit.measure(qreg[0],creg[0])\n",
    "    # execute the circuit 100 times\n",
    "    job = execute(mycircuit,Aer.get_backend('qasm_simulator'),shots=100)\n",
    "    counts = job.result().get_counts(mycircuit)\n",
    "    d = i /8\n",
    "    if d % 2 == 0: print(i,\"is even multiple of 8\")\n",
    "    else: print(i,\"is odd multiple of 8\")\n",
    "    print(\"stream of lenght\",i,\"->\",counts)\n",
    "    print()\n",
    "    \n"
   ]
  },
  {
   "cell_type": "markdown",
   "metadata": {},
   "source": [
    "<b> Remark:</b> For the same problem, we need at least 4 classical bits. \n",
    "\n",
    "When changing the parameter $2^3$ to $ 2^k $, we can still use a single qubit. On the other hand, we need at least $ (k+1) $ classical bits."
   ]
  },
  {
   "cell_type": "markdown",
   "metadata": {},
   "source": [
    "<h3>Task 1</h3>\n",
    "\n",
    "Do the same task given above by using different angles.\n",
    "\n",
    "Test at least three different angles. \n",
    "\n",
    "Please modify the code above."
   ]
  },
  {
   "cell_type": "markdown",
   "metadata": {},
   "source": [
    "$ i \\frac{\\pi}{16} $, где $ i \\in \\{1,3,5,7,\\ldots\\} $"
   ]
  },
  {
   "cell_type": "markdown",
   "metadata": {},
   "source": [
    "<a href=\"B72_Rotation_Automata_Solutions.ipynb#task1\">click for our solution</a>"
   ]
  },
  {
   "cell_type": "markdown",
   "metadata": {},
   "source": [
    "<h3>$ \\mathsf{MOD_p} $</h3>\n",
    "\n",
    "Now, we consider a more general problem called $ \\mathsf{MOD_p} $, where $\\sf p$ is a prime number.\n",
    "\n",
    "We will read a stream of symbols $a$. The number of $a$'s can be arbitrary.\n",
    "\n",
    "For each symbol, we apply a rotation.\n",
    "\n",
    "Our aim is to separate the streams whose length is a multiple of $ \\sf p $ from the other streams. \n",
    "\n",
    "<b>We design a good decider step by step.</b>\n",
    "\n",
    "<i>Remark that each $ p $ defines a different problem.</i>"
   ]
  },
  {
   "cell_type": "markdown",
   "metadata": {},
   "source": [
    "<h3>Task 2</h3>\n",
    "\n",
    "Let $ \\mathsf{p} = 11 $.\n",
    "\n",
    "Determine an angle of rotation such that when the length of stream is a multiple of $ \\sf p $, then we observe only state $ 0 $, and we can also observe state $ 1 $, otherwise.\n",
    "\n",
    "Test your rotation by using a quantum circuit. Execute the circuit for all streams of lengths from 1 to 11."
   ]
  },
  {
   "cell_type": "code",
   "execution_count": 3,
   "metadata": {},
   "outputs": [
    {
     "name": "stdout",
     "output_type": "stream",
     "text": [
      "выбранное число =  2\n",
      "\n",
      "к  1 -> {'0': 173, '1': 827}\n",
      "к  2 -> {'0': 400, '1': 600}\n",
      "к  3 -> {'0': 921, '1': 79}\n",
      "к  4 -> {'0': 20, '1': 980}\n",
      "к  5 -> {'0': 725, '1': 275}\n",
      "к  6 -> {'0': 746, '1': 254}\n",
      "к  7 -> {'0': 21, '1': 979}\n",
      "к  8 -> {'0': 912, '1': 88}\n",
      "к  9 -> {'0': 434, '1': 566}\n",
      "к  10 -> {'0': 190, '1': 810}\n",
      "к  11 -> {'0': 1000}\n"
     ]
    }
   ],
   "source": [
    "from qiskit import QuantumRegister, ClassicalRegister, QuantumCircuit, execute, Aer\n",
    "from math import pi\n",
    "from random import randrange\n",
    "\n",
    "r = randrange(1,11)\n",
    "print(\"выбранное число = \",r)\n",
    "print()  \n",
    "theta = r*2*pi/11\n",
    "\n",
    "for i in range(1,12):\n",
    "    qreg =  QuantumRegister(1) \n",
    "    creg = ClassicalRegister(1) \n",
    "    mycircuit = QuantumCircuit(qreg,creg)\n",
    "    for j in range(i):\n",
    "        mycircuit.ry(2*theta,qreg[0])\n",
    "    mycircuit.measure(qreg[0],creg[0])\n",
    "    job = execute(mycircuit,Aer.get_backend('qasm_simulator'),shots=1000)\n",
    "    counts = job.result().get_counts(mycircuit)\n",
    "    print(\"к \",i,\"->\",counts)"
   ]
  },
  {
   "cell_type": "markdown",
   "metadata": {},
   "source": [
    "<a href=\"B72_Rotation_Automata_Solutions.ipynb#task2\">click for our solution</a>"
   ]
  },
  {
   "cell_type": "markdown",
   "metadata": {},
   "source": [
    "<h3> Observation</h3>\n",
    "\n",
    "For some streams of lengths from 1 to 10, we observe state $\\ket{1}$ only for a few times.\n",
    "\n",
    "This is definitely not desirable if we wish to distinguish the lengths that are multiple of $\\sf p$ from the rest with high probability."
   ]
  },
  {
   "cell_type": "markdown",
   "metadata": {},
   "source": [
    "<h3>Task 3</h3>\n",
    "\n",
    "List down 10 possible different angles for Task 2, where each angle should be between 0 and $2\\pi$."
   ]
  },
  {
   "cell_type": "markdown",
   "metadata": {},
   "source": [
    "$ k\\frac{2\\pi}{11} $ для $ k \\in \\{1,\\ldots,10\\} $."
   ]
  },
  {
   "cell_type": "markdown",
   "metadata": {},
   "source": [
    "<a href=\"B72_Rotation_Automata_Solutions.ipynb#task3\">click for our solution</a>"
   ]
  },
  {
   "cell_type": "markdown",
   "metadata": {},
   "source": [
    "<h3>Task 4</h3>\n",
    "\n",
    "For each stream of length from 1 to 10, determine the best angle of rotation by using your circuit."
   ]
  },
  {
   "cell_type": "code",
   "execution_count": 5,
   "metadata": {},
   "outputs": [
    {
     "name": "stdout",
     "output_type": "stream",
     "text": [
      "длина 1-> 1:2968  2:8322  3:9829  4:5684  5:754  6:818  7:5648  8:9783  9:8289  10:2915  \n",
      "для длины 1 , лучшее k =  3\n",
      "\n",
      "длина 2-> 1:8285  2:5747  3:785  4:9806  5:2914  6:2990  7:9773  8:798  9:5735  10:8316  \n",
      "для длины 2 , лучшее k =  4\n",
      "\n",
      "длина 3-> 1:9823  2:777  3:8240  4:2894  5:5727  6:5713  7:2786  8:8314  9:810  10:9779  \n",
      "для длины 3 , лучшее k =  1\n",
      "\n",
      "длина 4-> 1:5767  2:9786  3:2976  4:829  5:8224  6:8213  7:818  8:2914  9:9816  10:5627  \n",
      "для длины 4 , лучшее k =  9\n",
      "\n",
      "длина 5-> 1:774  2:2914  3:5663  4:8301  5:9801  6:9762  7:8321  8:5698  9:2948  10:860  \n",
      "для длины 5 , лучшее k =  5\n",
      "\n",
      "длина 6-> 1:776  2:2909  3:5730  4:8210  5:9775  6:9798  7:8255  8:5697  9:2931  10:818  \n",
      "для длины 6 , лучшее k =  6\n",
      "\n",
      "длина 7-> 1:5705  2:9776  3:2970  4:829  5:8266  6:8269  7:802  8:2874  9:9778  10:5735  \n",
      "для длины 7 , лучшее k =  9\n",
      "\n",
      "длина 8-> 1:9829  2:796  3:8282  4:3052  5:5765  6:5733  7:2867  8:8256  9:760  10:9811  \n",
      "для длины 8 , лучшее k =  1\n",
      "\n",
      "длина 9-> 1:8312  2:5683  3:769  4:9779  5:2919  6:2960  7:9807  8:781  9:5730  10:8241  \n",
      "для длины 9 , лучшее k =  7\n",
      "\n",
      "длина 10-> 1:2937  2:8294  3:9772  4:5750  5:773  6:751  7:5633  8:9786  9:8257  10:2893  \n",
      "для длины 10 , лучшее k =  8\n",
      "\n"
     ]
    }
   ],
   "source": [
    "from qiskit import QuantumRegister, ClassicalRegister, QuantumCircuit, execute, Aer\n",
    "from math import pi\n",
    "from random import randrange\n",
    "\n",
    "for i in range(1,11):\n",
    "    number_of_one_state = 0\n",
    "    best_k = 1\n",
    "    all_outcomes_for_i = \"длина \"+str(i)+\"-> \"\n",
    "    for k in range(1,11):\n",
    "        theta = k*2*pi/11\n",
    "        qreg =  QuantumRegister(1) \n",
    "        creg = ClassicalRegister(1) \n",
    "        mycircuit = QuantumCircuit(qreg,creg)\n",
    "        for j in range(i):\n",
    "            mycircuit.ry(2*theta,qreg[0])\n",
    "        mycircuit.measure(qreg[0],creg[0])\n",
    "        job = execute(mycircuit,Aer.get_backend('qasm_simulator'),shots=10000)\n",
    "        counts = job.result().get_counts(mycircuit)\n",
    "        all_outcomes_for_i = all_outcomes_for_i + str(k)+ \":\" + str(counts['1']) + \"  \"\n",
    "        if int(counts['1']) > number_of_one_state:\n",
    "            number_of_one_state = counts['1']\n",
    "            best_k = k\n",
    "    print(all_outcomes_for_i)\n",
    "    print(\"для длины\",i,\", лучшее k = \",best_k)\n",
    "    print()"
   ]
  },
  {
   "cell_type": "markdown",
   "metadata": {},
   "source": [
    "<a href=\"B72_Rotation_Automata_Solutions.ipynb#task4\">click for our solution</a>"
   ]
  },
  {
   "cell_type": "markdown",
   "metadata": {},
   "source": [
    "<h3> Random strategy for $ \\mathsf{MOD_p} $</h3>"
   ]
  },
  {
   "cell_type": "markdown",
   "metadata": {},
   "source": [
    "For different length of streams that are not multiple of $\\sf p$, different angles $ \\big( k\\frac{2\\pi}{p} \\big) $ work better.\n",
    "\n",
    "We can use more than one rotation automaton, each of which uses different $ k $ for its angle of rotation. \n",
    "\n",
    "In this way, we can get better results, i.e., we can distinguish the lengths not multiple of $\\sf p$ with better probabilities, i.e., we observe state $ \\ket{1} $ more than half times for example."
   ]
  },
  {
   "cell_type": "markdown",
   "metadata": {},
   "source": [
    "<h3>Task 5</h3>\n",
    "\n",
    "Let $ \\mathsf{p} = 31 $.\n",
    "\n",
    "Create a circuit with three quantum bits and three classical bits.\n",
    "\n",
    "Rotate the qubits with angles $ 3\\cdot \\frac{2\\pi}{31} $, $ 7\\cdot\\frac{2\\pi}{31} $, and $ 11\\cdot\\frac{2\\pi}{31} $, respectively.\n",
    "\n",
    "Execute your circuit for all streams of lengths from 1 to 30. Check whether the number of state $ \\ket{000} $ is less than half or not.\n",
    "\n",
    "<i>Note that whether a key is in dictionary or not can be checked as follows:</i>\n",
    "\n",
    "    if '000' in counts.keys():\n",
    "        c = counts['000']\n",
    "    else:\n",
    "        c = 0"
   ]
  },
  {
   "cell_type": "code",
   "execution_count": 8,
   "metadata": {},
   "outputs": [
    {
     "name": "stdout",
     "output_type": "stream",
     "text": [
      "{'011': 105, '010': 255, '000': 4, '100': 7, '110': 443, '111': 180, '001': 3, '101': 3}\n",
      "000 наблюдается 4 раз из 1000\n",
      "соотношение 000 =   0.4 %\n",
      "\n",
      "{'011': 1, '010': 1, '000': 6, '100': 94, '110': 6, '111': 62, '001': 31, '101': 799}\n",
      "000 наблюдается 6 раз из 1000\n",
      "соотношение 000 =   0.6 %\n",
      "\n",
      "{'011': 632, '010': 36, '000': 12, '100': 2, '110': 4, '111': 116, '001': 172, '101': 26}\n",
      "000 наблюдается 12 раз из 1000\n",
      "соотношение 000 =   1.2 %\n",
      "\n",
      "{'011': 117, '010': 131, '000': 292, '100': 92, '110': 53, '111': 32, '001': 211, '101': 72}\n",
      "000 наблюдается 292 раз из 1000\n",
      "соотношение 000 =   29.2 %\n",
      "\n",
      "{'110': 509, '010': 12, '000': 9, '100': 459, '101': 6, '111': 5}\n",
      "000 наблюдается 9 раз из 1000\n",
      "соотношение 000 =   0.9 %\n",
      "\n",
      "{'011': 68, '010': 219, '000': 146, '100': 164, '110': 241, '111': 66, '001': 41, '101': 55}\n",
      "000 наблюдается 146 раз из 1000\n",
      "соотношение 000 =   14.6 %\n",
      "\n",
      "{'011': 188, '010': 48, '000': 140, '100': 1, '110': 1, '111': 1, '001': 614, '101': 7}\n",
      "000 наблюдается 140 раз из 1000\n",
      "соотношение 000 =   14.0 %\n",
      "\n",
      "{'011': 242, '010': 4, '000': 4, '100': 4, '110': 17, '111': 609, '001': 33, '101': 87}\n",
      "000 наблюдается 4 раз из 1000\n",
      "соотношение 000 =   0.4 %\n",
      "\n",
      "{'011': 1, '110': 22, '111': 8, '000': 57, '100': 407, '001': 60, '101': 445}\n",
      "000 наблюдается 57 раз из 1000\n",
      "соотношение 000 =   5.7 %\n",
      "\n",
      "{'010': 872, '011': 40, '110': 84, '111': 4}\n",
      "000 наблюдается 0 раз из 1000\n",
      "соотношение 000 =   0.0 %\n",
      "\n",
      "{'011': 2, '010': 6, '000': 545, '100': 252, '110': 1, '111': 1, '001': 118, '101': 75}\n",
      "000 наблюдается 545 раз из 1000\n",
      "соотношение 000 =   54.5 %\n",
      "\n",
      "{'011': 3, '110': 269, '111': 680, '100': 18, '101': 30}\n",
      "000 наблюдается 0 раз из 1000\n",
      "соотношение 000 =   0.0 %\n",
      "\n",
      "{'011': 94, '111': 58, '000': 1, '001': 500, '101': 347}\n",
      "000 наблюдается 1 раз из 1000\n",
      "соотношение 000 =   0.1 %\n",
      "\n",
      "{'011': 439, '010': 246, '000': 100, '100': 6, '110': 12, '111': 13, '001': 174, '101': 10}\n",
      "000 наблюдается 100 раз из 1000\n",
      "соотношение 000 =   10.0 %\n",
      "\n",
      "{'011': 9, '010': 87, '000': 91, '100': 407, '110': 318, '111': 25, '001': 8, '101': 55}\n",
      "000 наблюдается 91 раз из 1000\n",
      "соотношение 000 =   9.1 %\n",
      "\n",
      "{'011': 6, '010': 83, '000': 88, '100': 433, '110': 299, '111': 31, '001': 11, '101': 49}\n",
      "000 наблюдается 88 раз из 1000\n",
      "соотношение 000 =   8.8 %\n",
      "\n",
      "{'011': 417, '010': 265, '000': 97, '100': 2, '110': 14, '111': 23, '001': 177, '101': 5}\n",
      "000 наблюдается 97 раз из 1000\n",
      "соотношение 000 =   9.7 %\n",
      "\n",
      "{'011': 85, '110': 1, '111': 63, '100': 2, '001': 518, '101': 331}\n",
      "000 наблюдается 0 раз из 1000\n",
      "соотношение 000 =   0.0 %\n",
      "\n",
      "{'011': 5, '110': 284, '010': 1, '100': 19, '101': 38, '111': 653}\n",
      "000 наблюдается 0 раз из 1000\n",
      "соотношение 000 =   0.0 %\n",
      "\n",
      "{'011': 2, '010': 6, '000': 570, '100': 265, '110': 2, '111': 1, '001': 96, '101': 58}\n",
      "000 наблюдается 570 раз из 1000\n",
      "соотношение 000 =   57.0 %\n",
      "\n",
      "{'011': 39, '110': 87, '010': 871, '000': 1, '111': 2}\n",
      "000 наблюдается 1 раз из 1000\n",
      "соотношение 000 =   0.1 %\n",
      "\n",
      "{'011': 2, '010': 2, '000': 65, '100': 404, '110': 21, '111': 20, '001': 68, '101': 418}\n",
      "000 наблюдается 65 раз из 1000\n",
      "соотношение 000 =   6.5 %\n",
      "\n",
      "{'011': 233, '110': 14, '010': 7, '100': 4, '001': 31, '101': 108, '111': 603}\n",
      "000 наблюдается 0 раз из 1000\n",
      "соотношение 000 =   0.0 %\n",
      "\n",
      "{'011': 195, '010': 59, '000': 144, '100': 1, '001': 593, '101': 7, '111': 1}\n",
      "000 наблюдается 144 раз из 1000\n",
      "соотношение 000 =   14.4 %\n",
      "\n",
      "{'011': 62, '010': 217, '000': 123, '100': 156, '110': 255, '111': 91, '001': 46, '101': 50}\n",
      "000 наблюдается 123 раз из 1000\n",
      "соотношение 000 =   12.3 %\n",
      "\n",
      "{'110': 504, '010': 15, '000': 11, '100': 459, '101': 5, '111': 6}\n",
      "000 наблюдается 11 раз из 1000\n",
      "соотношение 000 =   1.1 %\n",
      "\n",
      "{'011': 93, '010': 159, '000': 279, '100': 78, '110': 42, '111': 32, '001': 235, '101': 82}\n",
      "000 наблюдается 279 раз из 1000\n",
      "соотношение 000 =   27.9 %\n",
      "\n",
      "{'011': 623, '010': 46, '000': 9, '100': 3, '110': 11, '111': 118, '001': 161, '101': 29}\n",
      "000 наблюдается 9 раз из 1000\n",
      "соотношение 000 =   0.9 %\n",
      "\n",
      "{'011': 3, '110': 10, '111': 71, '000': 4, '100': 113, '001': 52, '101': 747}\n",
      "000 наблюдается 4 раз из 1000\n",
      "соотношение 000 =   0.4 %\n",
      "\n",
      "{'011': 120, '010': 246, '000': 3, '100': 10, '110': 427, '111': 186, '001': 2, '101': 6}\n",
      "000 наблюдается 3 раз из 1000\n",
      "соотношение 000 =   0.3 %\n",
      "\n"
     ]
    }
   ],
   "source": [
    "from qiskit import QuantumRegister, ClassicalRegister, QuantumCircuit, execute, Aer\n",
    "from math import pi\n",
    "from random import randrange\n",
    "\n",
    "theta1 = 3*2*pi/31\n",
    "theta2 = 7*2*pi/31\n",
    "theta3 = 11*2*pi/31\n",
    "\n",
    "for i in range(1,31):\n",
    "    qreg =  QuantumRegister(3) \n",
    "    creg = ClassicalRegister(3) \n",
    "    mycircuit = QuantumCircuit(qreg,creg)\n",
    "    for j in range(i):\n",
    "        mycircuit.ry(2*theta1,qreg[0]) \n",
    "        mycircuit.ry(2*theta2,qreg[1]) \n",
    "        mycircuit.ry(2*theta3,qreg[2]) \n",
    "    mycircuit.measure(qreg,creg)\n",
    "    N = 1000\n",
    "    job = execute(mycircuit,Aer.get_backend('qasm_simulator'),shots=N)\n",
    "    counts = job.result().get_counts(mycircuit)\n",
    "    print(counts)\n",
    "    if '000' in counts.keys():\n",
    "        c = counts['000']\n",
    "    else:\n",
    "        c = 0\n",
    "    print('000 наблюдается',c,'раз из',N)\n",
    "    percentange = round(c/N*100,1)\n",
    "    print(\"соотношение 000 =  \",percentange,\"%\")\n",
    "    print()\n",
    "    "
   ]
  },
  {
   "cell_type": "markdown",
   "metadata": {},
   "source": [
    "<a href=\"B72_Rotation_Automata_Solutions.ipynb#task5\">click for our solution</a>"
   ]
  },
  {
   "cell_type": "markdown",
   "metadata": {},
   "source": [
    "<h3>Task 6</h3>\n",
    "\n",
    "Let $ \\mathsf{p} = 31 $.\n",
    "\n",
    "Create a circuit with three quantum bits and three classical bits.\n",
    "\n",
    "Rotate the qubits with random angles of the form $ k\\frac{2\\pi}{31} $, where $ k \n",
    "\\in \\{1,\\ldots,30\\}.$\n",
    "\n",
    "Execute your circuit for all streams of lengths from 1 to 30.\n",
    "\n",
    "Calculate the maximum percentage of observing the state $ \\ket{000} $.\n",
    "\n",
    "Repeat this task for a few times.\n",
    "\n",
    "<i>Note that whether a key is in dictionary or not can be checked as follows:</i>\n",
    "\n",
    "    if '000' in counts.keys():\n",
    "        c = counts['000']\n",
    "    else:\n",
    "        c = 0"
   ]
  },
  {
   "cell_type": "code",
   "execution_count": 9,
   "metadata": {},
   "outputs": [
    {
     "name": "stdout",
     "output_type": "stream",
     "text": [
      "k1 = 1 k2 = 18 k3 = 22\n",
      "\n",
      "max percentage is 39.0\n"
     ]
    }
   ],
   "source": [
    "from qiskit import QuantumRegister, ClassicalRegister, QuantumCircuit, execute, Aer\n",
    "from math import pi\n",
    "from random import randrange\n",
    "\n",
    "k1 = randrange(1,31)\n",
    "theta1 = k1*2*pi/31\n",
    "k2 = randrange(1,31)\n",
    "theta2 = k2*2*pi/31\n",
    "k3 = randrange(1,31)\n",
    "theta3 = k3*2*pi/31\n",
    "print(\"k1 =\",k1,\"k2 =\",k2,\"k3 =\",k3)\n",
    "print()\n",
    "\n",
    "max_percentange = 0\n",
    "for i in range(1,31):\n",
    "    k1 = randrange(1,31)\n",
    "    theta1 = k1*2*pi/31\n",
    "    k2 = randrange(1,31)\n",
    "    theta2 = k2*2*pi/31\n",
    "    k3 = randrange(1,31)\n",
    "    theta3 = k3*2*pi/31\n",
    "    qreg =  QuantumRegister(3) \n",
    "    creg = ClassicalRegister(3) \n",
    "    mycircuit = QuantumCircuit(qreg,creg)\n",
    "    for j in range(i):\n",
    "        mycircuit.ry(2*theta1,qreg[0]) \n",
    "        mycircuit.ry(2*theta2,qreg[1]) \n",
    "        mycircuit.ry(2*theta3,qreg[2]) \n",
    "    mycircuit.measure(qreg,creg)\n",
    "    N = 1000\n",
    "    job = execute(mycircuit,Aer.get_backend('qasm_simulator'),shots=N)\n",
    "    counts = job.result().get_counts(mycircuit)\n",
    "    if '000' in counts.keys():\n",
    "        c = counts['000']\n",
    "    else:\n",
    "        c = 0\n",
    "    percentange = round(c/N*100,1)\n",
    "    if max_percentange < percentange: max_percentange = percentange\n",
    "        \n",
    "print(\"максимальный процент = \",max_percentange)"
   ]
  },
  {
   "cell_type": "markdown",
   "metadata": {},
   "source": [
    "<a href=\"B72_Rotation_Automata_Solutions.ipynb#task6\">click for our solution</a>"
   ]
  },
  {
   "cell_type": "markdown",
   "metadata": {},
   "source": [
    "<h3>Task 7</h3>\n",
    "\n",
    "Repeat Task 6 by using four and five qubits."
   ]
  },
  {
   "cell_type": "code",
   "execution_count": 10,
   "metadata": {},
   "outputs": [
    {
     "name": "stdout",
     "output_type": "stream",
     "text": [
      "k 0 = 1\n",
      "k 1 = 13\n",
      "k 2 = 15\n",
      "k 3 = 10\n",
      "zeros =  0000\n",
      "\n",
      "max percentage is 15.5\n"
     ]
    }
   ],
   "source": [
    "from qiskit import QuantumRegister, ClassicalRegister, QuantumCircuit, execute, Aer\n",
    "from math import pi\n",
    "from random import randrange\n",
    "\n",
    "number_of_qubits = 4\n",
    "#number_of_qubits = 5\n",
    "\n",
    "theta = []\n",
    "for i in range(number_of_qubits):\n",
    "    k =  randrange(1,31)\n",
    "    print(\"k\",str(i),\"=\",k)\n",
    "    theta += [k*2*pi/31]\n",
    "\n",
    "zeros = ''\n",
    "for i in range(number_of_qubits):\n",
    "    zeros = zeros + '0'\n",
    "print(\"zeros = \",zeros)\n",
    "print()\n",
    "\n",
    "max_percentange = 0\n",
    "for i in range(1,31):\n",
    "    qreg =  QuantumRegister(number_of_qubits) \n",
    "    creg = ClassicalRegister(number_of_qubits) \n",
    "    mycircuit = QuantumCircuit(qreg,creg)\n",
    "    for j in range(i):\n",
    "        for k in range(number_of_qubits):\n",
    "            mycircuit.ry(2*theta[k],qreg[k]) \n",
    "    mycircuit.measure(qreg,creg)\n",
    "    N = 1000\n",
    "    job = execute(mycircuit,Aer.get_backend('qasm_simulator'),shots=N)\n",
    "    counts = job.result().get_counts(mycircuit)\n",
    "\n",
    "    if zeros in counts.keys():\n",
    "        c = counts[zeros]\n",
    "    else:\n",
    "        c = 0\n",
    "    percentange = round(c/N*100,1)\n",
    "    if max_percentange < percentange: max_percentange = percentange\n",
    "\n",
    "print(\"max percentage is\",max_percentange)"
   ]
  },
  {
   "cell_type": "markdown",
   "metadata": {},
   "source": [
    "<a href=\"B72_Rotation_Automata_Solutions.ipynb#task7\">click for our solution</a>"
   ]
  },
  {
   "cell_type": "markdown",
   "metadata": {},
   "source": [
    "<h3>Remarks</h3>\n",
    "\n",
    "Problem $\\sf MOD_p$ can be classically solved by using no less than $\\sf p$ states.\n",
    "\n",
    "As we have observed, the same problem can be solved by using a few quantum states in some cases.\n",
    "\n",
    "In fact, the above given random strategy can be implemented more state efficiently (we discuss the basics of this technique in the next notebook) so that $ \\log \\mathsf{p} $ quantum states is enough to solve the problem with high probability.\n",
    "\n",
    "Thus, we need at least logarithmic number of classical bits. On the other hand, we can use double logarithmic quantum bits. This is another exponential advantage of quantum computation.  \n",
    "\n",
    "<i> One implementation issue for the quantum algorithm is to implement more and more precise rotations, i.e., implementing the rotation with angle $ \\frac{2\\pi}{p} $ may not be possible when $ p $ gets bigger and bigger.\n",
    "\n",
    "Besides, a long sequence of rotations may require some error corrections, and each error correction solution can use new qubits.\n",
    "</i>"
   ]
  },
  {
   "cell_type": "code",
   "execution_count": null,
   "metadata": {},
   "outputs": [],
   "source": []
  }
 ],
 "metadata": {
  "kernelspec": {
   "display_name": "Python 3",
   "language": "python",
   "name": "python3"
  },
  "language_info": {
   "codemirror_mode": {
    "name": "ipython",
    "version": 3
   },
   "file_extension": ".py",
   "mimetype": "text/x-python",
   "name": "python",
   "nbconvert_exporter": "python",
   "pygments_lexer": "ipython3",
   "version": "3.7.4"
  }
 },
 "nbformat": 4,
 "nbformat_minor": 2
}
